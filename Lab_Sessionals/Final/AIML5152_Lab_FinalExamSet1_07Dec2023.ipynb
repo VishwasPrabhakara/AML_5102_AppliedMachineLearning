{
 "cells": [
  {
   "cell_type": "markdown",
   "metadata": {},
   "source": [
    "Reg Num:  _______________________"
   ]
  },
  {
   "cell_type": "markdown",
   "metadata": {},
   "source": [
    "---\n",
    "$$\\color{orange}{AML\\ 5152\\,\\lvert\\, Applied\\ Machine\\ Learning\\,\\lvert\\,Lab\\ Final\\,\\lvert\\,Odd\\ Semester\\ 2023}$$\n",
    "---\n",
    "\n",
    "**Instructions:**\n",
    "1. Fill the reg num at the top of this notebook\n",
    "2. Upload your Jupyter notebook with all its outputs intact here: https://tinyurl.com/tckf29w4\n",
    "3. Do not solicit inputs from others. Plagiarism check will be performed after the exam"
   ]
  },
  {
   "cell_type": "markdown",
   "metadata": {},
   "source": [
    "### **Problem Statement**\n",
    "\n",
    "**PS: DO NOT FORGET TO TRAIN-TEST SPLIT AT AN APPROPRIATE TIME IN THE ENTIRE FLOW**.\n",
    "\n",
    "You decide where you want to position the train test split in the stages below\n",
    "\n",
    "#### I. Load the partial dataset (given to you)\n",
    "1. Dataset has 200 records\n",
    "2. Datset has five columns - age,tumor_size,tumor_grade,cancer_stage,lymph_node_status\n",
    "3. cancer_stage is the target variable taking on values I, II, III and IV\n",
    "4. The rest are predictor variables\n",
    "\n",
    "#### II. Enhance the dataset\n",
    "1. Introduce a new feature called CRP (C-reactive protein), that is always numerically 5 more than lymph_node_status\n",
    "2. Add a new feature called tumor_size_converted as per the formula\n",
    " $$ tumor\\_size\\_converted\\ = tumor\\_size\\ * 10 + standard\\ normal\\ distributed\\ noise$$  \n",
    "3. Introduce 25% NaNs in these two columns: tumor_size and tumor_size_converted\n",
    "\n",
    "#### III Data transformation and Visualization\n",
    "1. Perform a suitable form of imputation for these two features. Which imputation did you choose and why? Do appropriate visualization (if needed) to determine the type of imputation\n",
    "2. Visualize the distribution of features and apply if any transformation if needed\n",
    "3. Apply appropriate scaling (such as StandardScaler, RobustScaler) to appropriate features\n",
    "\n",
    "#### IV Feature Elimination and Feature Selection\n",
    "1. If there are any features that you can immediately drop without any exploration, programming then please do so first\n",
    "2. Check which features have highest predictive power wrt target variable\n",
    "3. Check features on which target is dependent. Use a mechanism that is different from previous method for this.\n",
    "4. Base on the above two checks, choose 2 features for predicting cancer stage\n",
    "\n",
    "#### V ML Prediction\n",
    "1. Apply Logistic Regression to predict cancer stage\n",
    "2. Choose a  metric that you think is most suitable for this scenario\n",
    "\n",
    "---"
   ]
  },
  {
   "cell_type": "markdown",
   "metadata": {},
   "source": [
    "### I. Load the partial dataset\n",
    "\n",
    "1. Dataset has 200 records\n",
    "2. Datset has five columns - age,tumor_size,tumor_grade,cancer_stage,lymph_node_status\n",
    "3. cancer_stage is the target variable taking on values I, II, III and IV\n",
    "4. The rest are predictor variables"
   ]
  },
  {
   "cell_type": "code",
   "execution_count": 1,
   "metadata": {},
   "outputs": [],
   "source": [
    "import numpy as np\n",
    "import pandas as pd\n",
    "\n",
    "np.random.seed(42)"
   ]
  },
  {
   "cell_type": "code",
   "execution_count": 3,
   "metadata": {},
   "outputs": [
    {
     "data": {
      "text/html": [
       "<div>\n",
       "<style scoped>\n",
       "    .dataframe tbody tr th:only-of-type {\n",
       "        vertical-align: middle;\n",
       "    }\n",
       "\n",
       "    .dataframe tbody tr th {\n",
       "        vertical-align: top;\n",
       "    }\n",
       "\n",
       "    .dataframe thead th {\n",
       "        text-align: right;\n",
       "    }\n",
       "</style>\n",
       "<table border=\"1\" class=\"dataframe\">\n",
       "  <thead>\n",
       "    <tr style=\"text-align: right;\">\n",
       "      <th></th>\n",
       "      <th>age</th>\n",
       "      <th>tumor_size</th>\n",
       "      <th>tumor_grade</th>\n",
       "      <th>cancer_stage</th>\n",
       "      <th>lymph_node_status</th>\n",
       "    </tr>\n",
       "  </thead>\n",
       "  <tbody>\n",
       "    <tr>\n",
       "      <th>0</th>\n",
       "      <td>61.5</td>\n",
       "      <td>30.22</td>\n",
       "      <td>3</td>\n",
       "      <td>II</td>\n",
       "      <td>13</td>\n",
       "    </tr>\n",
       "    <tr>\n",
       "      <th>1</th>\n",
       "      <td>39.4</td>\n",
       "      <td>37.12</td>\n",
       "      <td>3</td>\n",
       "      <td>I</td>\n",
       "      <td>0</td>\n",
       "    </tr>\n",
       "    <tr>\n",
       "      <th>2</th>\n",
       "      <td>39.0</td>\n",
       "      <td>25.84</td>\n",
       "      <td>1</td>\n",
       "      <td>I</td>\n",
       "      <td>5</td>\n",
       "    </tr>\n",
       "    <tr>\n",
       "      <th>3</th>\n",
       "      <td>55.4</td>\n",
       "      <td>30.92</td>\n",
       "      <td>1</td>\n",
       "      <td>III</td>\n",
       "      <td>19</td>\n",
       "    </tr>\n",
       "    <tr>\n",
       "      <th>4</th>\n",
       "      <td>61.4</td>\n",
       "      <td>32.40</td>\n",
       "      <td>3</td>\n",
       "      <td>III</td>\n",
       "      <td>2</td>\n",
       "    </tr>\n",
       "  </tbody>\n",
       "</table>\n",
       "</div>"
      ],
      "text/plain": [
       "    age  tumor_size  tumor_grade cancer_stage  lymph_node_status\n",
       "0  61.5       30.22            3           II                 13\n",
       "1  39.4       37.12            3            I                  0\n",
       "2  39.0       25.84            1            I                  5\n",
       "3  55.4       30.92            1          III                 19\n",
       "4  61.4       32.40            3          III                  2"
      ]
     },
     "execution_count": 3,
     "metadata": {},
     "output_type": "execute_result"
    }
   ],
   "source": [
    "# Change this line to point to appropriate file location in your workstation/desktop/laptop/Colab\n",
    "df = pd.read_csv(\"cancer_dataset.csv\")\n",
    "df.head()"
   ]
  },
  {
   "cell_type": "markdown",
   "metadata": {},
   "source": [
    "---\n",
    "\n",
    "### II. Enhance the dataset\n",
    "1. Introduce a new feature called CRP (C-reactive protein), that is always numerically 5 more than lymph_node_status\n",
    "2. Add a new feature called tumor_size_converted as per the formula\n",
    " $$ tumor\\_size\\_converted\\ = tumor\\_size\\ * 10 + standard\\ normal\\ distributed\\ noise$$  \n",
    "3. Introduce 25% NaNs in these two columns: tumor_size and tumor_size_converted"
   ]
  },
  {
   "cell_type": "code",
   "execution_count": 6,
   "metadata": {},
   "outputs": [],
   "source": [
    "# Your code for adding CRP feature goes here"
   ]
  },
  {
   "cell_type": "code",
   "execution_count": 7,
   "metadata": {},
   "outputs": [],
   "source": [
    "# Your code for adding tumor_size_converted goes here"
   ]
  },
  {
   "cell_type": "code",
   "execution_count": 8,
   "metadata": {},
   "outputs": [],
   "source": [
    "# Your code for adding Nans goes here"
   ]
  },
  {
   "cell_type": "markdown",
   "metadata": {},
   "source": [
    "---\n",
    "\n",
    "### III Data transformation and Visualization\n",
    "1. Perform a suitable form of imputation for these two features. Which imputation did you choose and why? Do appropriate visualization (if needed) to determine the type of imputation\n",
    "2. Visualize the distribution of features and apply if any transformation if needed\n",
    "3. Apply appropriate scaling (such as StandardScaler, RobustScaler) to appropriate features"
   ]
  },
  {
   "cell_type": "code",
   "execution_count": null,
   "metadata": {},
   "outputs": [],
   "source": []
  },
  {
   "cell_type": "code",
   "execution_count": null,
   "metadata": {},
   "outputs": [],
   "source": []
  },
  {
   "cell_type": "markdown",
   "metadata": {},
   "source": [
    "---\n",
    "\n",
    "### IV Feature Elimination and Feature Selection\n",
    "1. If there are any features that you can immediately drop without any exploration then please do so first\n",
    "2. Check which features have highest predictive power wrt target variable\n",
    "3. Check features on which target is dependent. Use a mechanism that is different from previous method for this.\n",
    "4. Base on the above two checks, choose 2 features for predicting cancer stage"
   ]
  },
  {
   "cell_type": "code",
   "execution_count": null,
   "metadata": {},
   "outputs": [],
   "source": []
  },
  {
   "cell_type": "code",
   "execution_count": null,
   "metadata": {},
   "outputs": [],
   "source": []
  },
  {
   "cell_type": "markdown",
   "metadata": {},
   "source": [
    "### V ML Prediction\n",
    "1. Apply Logistic Regression to predict cancer stage\n",
    "2. Choose a  metric that you think is most suitable for this scenario"
   ]
  },
  {
   "cell_type": "code",
   "execution_count": null,
   "metadata": {},
   "outputs": [],
   "source": [
    "\n"
   ]
  },
  {
   "cell_type": "code",
   "execution_count": null,
   "metadata": {},
   "outputs": [],
   "source": []
  }
 ],
 "metadata": {
  "kernelspec": {
   "display_name": "quickstart",
   "language": "python",
   "name": "python3"
  },
  "language_info": {
   "codemirror_mode": {
    "name": "ipython",
    "version": 3
   },
   "file_extension": ".py",
   "mimetype": "text/x-python",
   "name": "python",
   "nbconvert_exporter": "python",
   "pygments_lexer": "ipython3",
   "version": "3.9.17"
  }
 },
 "nbformat": 4,
 "nbformat_minor": 2
}
